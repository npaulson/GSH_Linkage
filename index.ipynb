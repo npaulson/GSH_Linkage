{
 "cells": [
  {
   "cell_type": "markdown",
   "metadata": {},
   "source": [
    "# Generation of Structure-Property Linkages for $\\alpha$-Ti Microstructures\n",
    "\n",
    "## Introduction\n",
    "\n",
    "* construct structure-property (S-P) linkages using spatial statistics and dimensionality reduction\n",
    "* use synthetically generated $\\alpha$-Ti microstructures\n",
    "    * generated with DREAM.3D\n",
    "        * grain size distribution\n",
    "        * Orientation Distribution Function (ODF)\n",
    "    * 20 Statistical Volume Elements (SVEs) per microstructure\n",
    "        * SVEs are microstructural samples|\n",
    "        * sufficient number of SVEs equivalent to RVE\n",
    "![For each microstructure an example SVE and (0001) pole figure is included](https://farm9.staticflickr.com/8573/28902742706_cd1c399112_b.jpg)\n",
    "* simulate uniaxial tension in X-direction - extract elastic stiffness, yield strength\n",
    "    * ABAQUS\n",
    "    * Crystal Plasticity UMAT\n",
    "* Qualitatively describe microstructure using 2-pt spatial statistics\n",
    "* Reduce dimensionality of spatial statistics using Principal Component Analysis (PCA)\n",
    "* Construct S-P linkage by connecting microstructure representation with simulated properties through multivariate regression\n",
    "* Evaluate linkage quality using three error metrics\n",
    "\n",
    "\n",
    "## Code Description\n",
    "\n",
    "### Initialize Variables\n",
    "\n",
    "In the following code block we import functions and initialize common variables.\n",
    "\n",
    "Notable variables (feel free to experiment with these):\n",
    "* **vmax**: each 2-pt correlation has ${vmax}^3$ cells. Lowering vmax reduces the number of features prior to PCA\n",
    "* **names_cal**: this controls which microstructures to use for calibration\n",
    "* **names_val**: this controls which microstructures to use for validation"
   ]
  },
  {
   "cell_type": "code",
   "execution_count": null,
   "metadata": {
    "collapsed": false
   },
   "outputs": [],
   "source": [
    "%matplotlib inline\n",
    "%load_ext autoreload\n",
    "%autoreload 2\n",
    "\n",
    "import select_euler_response as ser\n",
    "import get_M\n",
    "import correlate as corr\n",
    "import plot_correlation as pltcorr\n",
    "import get_new_space as gns\n",
    "import transform as tf\n",
    "import plot_explained_variance_all as pev\n",
    "import plot_pc_map_label as pltmap\n",
    "import plot_pc_map_3d as pltmap3d\n",
    "import plot_dendrogram as pd\n",
    "import get_linkage as gl\n",
    "import get_response as gr\n",
    "import plot_err_v_pc as pevp\n",
    "import plot_linkage_check_gray as plc\n",
    "import h5py\n",
    "import numpy as np\n",
    "import matplotlib.pyplot as plt\n",
    "\n",
    "\n",
    "C = {}\n",
    "\n",
    "C['el'] = 21  # SVEs have el^3 cells\n",
    "C['vmax'] = 21  # each 2-pt correlation has vmax^3 cells\n",
    "C['H'] = 6  # max number of gsh functions\n",
    "\n",
    "C['names'] = ['Ac', 'BaTr', 'Di', 'Id', 'Od', 'Ra', 'Tr',\n",
    "              'BaTrTr', 'Dd', 'DdTr', 'DiTr', 'OdTr']\n",
    "\n",
    "C['names_cal'] = ['BaTr', 'Id', 'Od', 'Tr']\n",
    "C['set_id_cal'] = [s + '_cal' for s in C['names_cal']]\n",
    "C['strt_cal'] = list(np.zeros(len(C['names_cal']), dtype='int16'))\n",
    "C['ns_cal'] = list(20*np.ones(len(C['names_cal']), dtype='int16'))\n",
    "C['dir_cal'] = C['names_cal']\n",
    "\n",
    "C['names_val'] =  ['Ac', 'Di', 'Ra', 'BaTrTr', 'Dd', 'DdTr', 'DiTr', 'OdTr']\n",
    "C['set_id_val'] = [s + '_val' for s in C['names_val']]\n",
    "C['strt_val'] = list(np.zeros(len(C['names_val']), dtype='int16'))\n",
    "C['ns_val'] = list(20*np.ones(len(C['names_val']), dtype='int16'))\n",
    "C['dir_val'] = C['names_val']\n",
    "C['dir_resp'] = \"response\"\n",
    "\n",
    "\"\"\"select which correlations to include in the spatial statistics set\"\"\"\n",
    "cmat = []\n",
    "for ii in xrange(C['H']):\n",
    "    cmat.append([0, ii])\n",
    "for ii in xrange(1, C['H']):\n",
    "    cmat.append([1, ii])\n",
    "cmat = np.array(cmat)\n",
    "\n",
    "C['cmat'] = cmat\n",
    "C['cmax'] = cmat.shape[0]\n",
    "\n",
    "C['n_pc_tot'] = np.sum(C['ns_cal'])\n",
    "C['n_pc_max'] = C['n_pc_tot']\n",
    "C['n_poly_max'] = 1"
   ]
  },
  {
   "cell_type": "markdown",
   "metadata": {},
   "source": [
    "### Retrieve Open-Source Data\n",
    "\n",
    "Next, we download the raw data from the MATIN website.\n",
    "\n",
    "For more information about the dataset visit the following [link](https://matin.gatech.edu/resources/52)."
   ]
  },
  {
   "cell_type": "code",
   "execution_count": null,
   "metadata": {
    "collapsed": false
   },
   "outputs": [],
   "source": [
    "import urllib\n",
    "import ssl\n",
    "\n",
    "context=ssl._create_unverified_context()\n",
    "\n",
    "eulerfile=urllib.URLopener(context=context)\n",
    "eulerfile.retrieve(\"https://matin.gatech.edu/resources/61/download/euler_all.hdf5\", \"euler_all.hdf5\")\n",
    "print \"microstructure data retrieved\"\n",
    "\n",
    "responsesfile=urllib.URLopener(context=context)\n",
    "responsesfile.retrieve(\"https://matin.gatech.edu/resources/62/download/responses_all.hdf5\", \"responses_all.hdf5\")\n",
    "print \"response data retrieved\""
   ]
  },
  {
   "cell_type": "markdown",
   "metadata": {},
   "source": [
    "### Select Data of Interest\n",
    "Now we select the microstructure and response data as specified earlier"
   ]
  },
  {
   "cell_type": "code",
   "execution_count": null,
   "metadata": {
    "collapsed": false
   },
   "outputs": [],
   "source": [
    "\"\"\"select the desired euler angle and response sets\"\"\"\n",
    "f = h5py.File(\"euler.hdf5\", 'w')\n",
    "f.close()\n",
    "f = h5py.File(\"responses.hdf5\", 'w')\n",
    "f.close()\n",
    "for ii in xrange(len(C['set_id_cal'])):\n",
    "    ser.select(C, C['ns_cal'][ii], C['strt_cal'][ii],\n",
    "               C['names_cal'][ii], C['set_id_cal'][ii])\n",
    "print \"calibration data selected\"\n",
    "for ii in xrange(len(C['set_id_val'])):\n",
    "    ser.select(C, C['ns_val'][ii], C['strt_val'][ii],\n",
    "               C['names_val'][ii], C['set_id_val'][ii])\n",
    "print \"validation data selected\""
   ]
  },
  {
   "cell_type": "markdown",
   "metadata": {},
   "source": [
    "### Compute Spatial Correlations\n",
    "\n",
    "1. generate microstructure function from microstructure information\n",
    "2. Compute 2-pt spatial statistics using microstructure function"
   ]
  },
  {
   "cell_type": "code",
   "execution_count": null,
   "metadata": {
    "collapsed": false
   },
   "outputs": [],
   "source": [
    "f = h5py.File(\"spatial_L%s.hdf5\" % C['H'], 'w')\n",
    "f.close()\n",
    "\n",
    "\"\"\"Compute GSH coefficients to create microstructure function in real and\n",
    "fourier space\"\"\"\n",
    "for ii in xrange(len(C['set_id_cal'])):\n",
    "    get_M.get_M(C, C['ns_cal'][ii], C['set_id_cal'][ii])\n",
    "    \n",
    "print \"microstructure function generated for calibration data\"\n",
    "    \n",
    "for ii in xrange(len(C['set_id_val'])):\n",
    "    get_M.get_M(C, C['ns_val'][ii], C['set_id_val'][ii])\n",
    "    \n",
    "print \"microstructure function generated for validation data\"\n",
    "\n",
    "\"\"\"Compute the periodic statistics for the microstructures\"\"\"\n",
    "for ii in xrange(len(C['set_id_cal'])):\n",
    "    corr.correlate(C, C['ns_cal'][ii], C['set_id_cal'][ii])\n",
    "    \n",
    "print \"correlations computed for calibration data\"\n",
    "    \n",
    "for ii in xrange(len(C['set_id_val'])):\n",
    "    corr.correlate(C, C['ns_val'][ii], C['set_id_val'][ii])\n",
    "    \n",
    "print \"correlations computed for validation data\""
   ]
  },
  {
   "cell_type": "markdown",
   "metadata": {},
   "source": [
    "#### Euler Angle and Spatial Correlation Plot\n",
    "Plot SVE slice (indexed by *sn*) for specified microstructure (indexed by *set_id*) and associated spatial correlation (indexed by *iA*).\n",
    "\n",
    "try changing **set_id** (valid values 0-3 for 'set_id_cal' and 0-7 for 'set_id_val'), **sn** (valid values: 0-19) and **iA** (valid values: 0-10)"
   ]
  },
  {
   "cell_type": "code",
   "execution_count": null,
   "metadata": {
    "collapsed": false
   },
   "outputs": [],
   "source": [
    "set_id = C['set_id_val'][3]  # index for the microstructure of interest\n",
    "sn = 0  # index for the SVE of interest\n",
    "iA = 10  # index for the correlation of interest\n",
    "pltcorr.pltcorr(C, set_id=set_id , sn=sn, iA=iA)"
   ]
  },
  {
   "cell_type": "markdown",
   "metadata": {},
   "source": [
    "### Get Reduced Dimensionality Representation\n",
    "* Perform PCA to reduce dimensionality of spatial statistics representation\n",
    "    * PCA finds an orthogonal linear combination of the original features such that the newly created features are ordered from highest to lowest variance. In our case this means that the spatial statistics may be represented with orders of magnitude fewer dimensions.\n",
    "    \n",
    "For an intuitive example of PCA (SVD) for image compression, check out this [link](http://www.frankcleary.com/svdimage/)."
   ]
  },
  {
   "cell_type": "code",
   "execution_count": null,
   "metadata": {
    "collapsed": false
   },
   "outputs": [],
   "source": [
    "\"\"\"Perform PCA on correlations\"\"\"\n",
    "pca = gns.new_space(C, C['ns_cal'], C['set_id_cal'])\n",
    "\n",
    "print \"Principal Component Analysis (PCA) performed\"\n",
    "\n",
    "\"\"\"transform statistics to reduced dimensionality space\"\"\"\n",
    "f = h5py.File(\"spatial_reduced_L%s.hdf5\" % C['H'], 'w')\n",
    "f.close()\n",
    "\n",
    "for ii in xrange(len(C['set_id_cal'])):\n",
    "    tf.transform(C, C['ns_cal'][ii], C['set_id_cal'][ii], pca)\n",
    "\n",
    "print \"calibration SVEs transformed to PC representation\"\n",
    "    \n",
    "for ii in xrange(len(C['set_id_val'])):\n",
    "    tf.transform(C, C['ns_val'][ii], C['set_id_val'][ii], pca)\n",
    "    \n",
    "print \"validation SVEs transformed to PC representation\""
   ]
  },
  {
   "cell_type": "markdown",
   "metadata": {},
   "source": [
    "#### PCA Explained Variance Plot\n",
    "* Plot variance in spatial statistics explained by increasing numbers of principal components (PCs) in PCA representation\n",
    "* Nearly 100% of variance explained by first 5 PCs"
   ]
  },
  {
   "cell_type": "code",
   "execution_count": null,
   "metadata": {
    "collapsed": false
   },
   "outputs": [],
   "source": [
    "\"\"\"Plot the percentage explained variance\"\"\"\n",
    "pev.variance(C, [0, 7, 86, 102], [C['H']])"
   ]
  },
  {
   "cell_type": "markdown",
   "metadata": {},
   "source": [
    "#### Microstructure Clustering - SVE Map\n",
    "* Plot SVEs associated with each microstructure for selected PCs\n",
    "* Note that in the first two PCs the SVEs are well clustered by microstructure type.\n",
    "\n",
    "Try changing **pcA** (valid values: 0-78) and **pcB** (valid values: 0-78) to look at the clustering in different dimensions.**"
   ]
  },
  {
   "cell_type": "code",
   "execution_count": null,
   "metadata": {
    "collapsed": false
   },
   "outputs": [],
   "source": [
    "\"\"\"Plot the microstructures in PC space\"\"\"\n",
    "pcA = 0\n",
    "pcB = 1\n",
    "pltmap.pltmap(C, C['H'], pcA, pcB)\n",
    "\n",
    "# pcC = 2\n",
    "# pltmap3d.pltmap(C, C['H'], pcA, pcB, pcC)\n",
    "\n",
    "# \"\"\"Plot a dendrogram\"\"\"\n",
    "# pd.pltdend(C, C['ns_cal'] + C['ns_val'],\n",
    "#            C['set_id_cal'] + C['set_id_val'],\n",
    "#            C['names_cal'] + C['names_val'], C['H'])"
   ]
  },
  {
   "cell_type": "markdown",
   "metadata": {},
   "source": [
    "### Generate Structure Property Linkages\n",
    "* S-P linkages generated for elastic stiffness, yield strength\n",
    "* created by fitting SVE PC representations to simulated properties with multivariate polynomial regression\n",
    "* regressions performed considering different numbers of PCs"
   ]
  },
  {
   "cell_type": "code",
   "execution_count": null,
   "metadata": {
    "collapsed": false
   },
   "outputs": [],
   "source": [
    " \"\"\"create the specified array of linkages and cross validate\"\"\"\n",
    "\n",
    "f = h5py.File(\"regression_results_L%s.hdf5\" % C['H'], 'w')\n",
    "f.close()\n",
    "\n",
    "gl.linkage(C, 'modulus')\n",
    "print \"linkage for elastic stiffness performed\"\n",
    "\n",
    "gl.linkage(C, 'strength')\n",
    "print \"linkage for yield strength performed\""
   ]
  },
  {
   "cell_type": "markdown",
   "metadata": {},
   "source": [
    "### Validate Structure-Property Linkages\n",
    "#### Plot Prediction Error vs. Number of PCs\n",
    "Three error measures plotted versus number of PCs included in multivariate regression for elastic stiffness and yield strength\n",
    "* **Calibration error**\n",
    "    * error in property prediction for calibration SVEs\n",
    "    * calibration error decreases as number of PCs increases\n",
    "* **LOOCV (Leave one out cross validation) error**\n",
    "    * error in property prediction where one SVE is removed from calibration set and used to measure prediction error\n",
    "    * Performed for all calibration SVEs\n",
    "    * LOOCV error used to detect overfitting\n",
    "    * LOOCV error first decreases, then increases as number of PCs increases\n",
    "* **Validation error**\n",
    "    * error in property prediction for validation SVEs\n",
    "    * Validation error tends to decrease, then increase as number of PCs increases"
   ]
  },
  {
   "cell_type": "code",
   "execution_count": null,
   "metadata": {
    "collapsed": false,
    "scrolled": false
   },
   "outputs": [],
   "source": [
    "\"\"\"plot prediction error for elastic stiffness \"\"\"\n",
    "err_bnd = 1.0\n",
    "pevp.plterr(C, 'modulus', 30, err_bnd, ['cal', 'LOOCV', 'val'], [C['H']])\n",
    "\n",
    "\"\"\"plot prediction error for yield strength \"\"\"\n",
    "err_bnd = 5.0\n",
    "pevp.plterr(C, 'strength', 30, err_bnd, ['cal', 'LOOCV', 'val'], [C['H']])\n"
   ]
  },
  {
   "cell_type": "markdown",
   "metadata": {},
   "source": [
    "#### Plot Prediction Errors for Selected Linkage\n",
    "* parity plot used to evaluate quality of S-P linkage for specified number of PCs\n",
    "    * shows actual vs. predicted property\n",
    "    * error bounds included for clarity and convenience"
   ]
  },
  {
   "cell_type": "code",
   "execution_count": null,
   "metadata": {
    "collapsed": false,
    "scrolled": false
   },
   "outputs": [],
   "source": [
    "n_pc = 2  # select the number of PCs used in the S-P linkage\n",
    "\n",
    "plc.plot_check(C, 'modulus', n_pc=n_pc, n_poly=2, H=C['H'], erv=1)\n",
    "plc.plot_check(C, 'strength', n_pc=n_pc, n_poly=2, H=C['H'], erv=5)"
   ]
  },
  {
   "cell_type": "code",
   "execution_count": null,
   "metadata": {
    "collapsed": true
   },
   "outputs": [],
   "source": []
  }
 ],
 "metadata": {
  "kernelspec": {
   "display_name": "Python 2",
   "language": "python",
   "name": "python2"
  },
  "language_info": {
   "codemirror_mode": {
    "name": "ipython",
    "version": 2
   },
   "file_extension": ".py",
   "mimetype": "text/x-python",
   "name": "python",
   "nbconvert_exporter": "python",
   "pygments_lexer": "ipython2",
   "version": "2.7.11"
  }
 },
 "nbformat": 4,
 "nbformat_minor": 0
}
